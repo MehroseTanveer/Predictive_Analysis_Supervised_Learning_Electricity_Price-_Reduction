{
 "cells": [
  {
   "cell_type": "markdown",
   "id": "703ae4a7",
   "metadata": {},
   "source": [
    "# Name:  Mehrose Tanveer    Email: h22mehrt@du.se    Task 2"
   ]
  },
  {
   "cell_type": "code",
   "execution_count": 102,
   "id": "d59c404f",
   "metadata": {},
   "outputs": [],
   "source": [
    "#Step 1\n",
    "##libraries for task 2\n",
    "import pandas as pd\n",
    "from sklearn.model_selection import train_test_split\n",
    "import seaborn as sns\n",
    "from matplotlib import pyplot as plt\n",
    "from sklearn.tree import DecisionTreeRegressor\n",
    "from sklearn.metrics import mean_squared_error\n",
    "import numpy as np\n",
    "from sklearn.svm import SVR\n",
    "from sklearn.model_selection import train_test_split\n",
    "from sklearn.ensemble import RandomForestClassifier\n",
    "from sklearn.metrics import accuracy_score, precision_score, recall_score, f1_score\n",
    "from sklearn.metrics import mean_squared_error\n",
    "from sklearn.tree import DecisionTreeRegressor\n",
    "from sklearn.model_selection import cross_val_score\n",
    "import numpy as np\n",
    "from sklearn.svm import SVC\n",
    "from sklearn.model_selection import cross_val_score\n",
    "import numpy as np\n",
    "\n",
    "\n",
    "    "
   ]
  },
  {
   "cell_type": "code",
   "execution_count": 3,
   "id": "0dd849c9",
   "metadata": {},
   "outputs": [
    {
     "name": "stderr",
     "output_type": "stream",
     "text": [
      "C:\\Users\\asd\\AppData\\Local\\Temp\\ipykernel_3352\\1413382140.py:3: DtypeWarning: Columns (9,10,11,14,15,16,17) have mixed types. Specify dtype option on import or set low_memory=False.\n",
      "  electricitydata = pd.read_csv('C:/Users/asd/Desktop/electricitydata.csv')\n"
     ]
    }
   ],
   "source": [
    "#Step 2\n",
    "# Load the CSV file into a pandas DataFrame\n",
    "electricitydata = pd.read_csv('C:/Users/asd/Desktop/electricitydata.csv')"
   ]
  },
  {
   "cell_type": "code",
   "execution_count": 83,
   "id": "df9d8135",
   "metadata": {},
   "outputs": [
    {
     "name": "stdout",
     "output_type": "stream",
     "text": [
      "<class 'pandas.core.frame.DataFrame'>\n",
      "RangeIndex: 38014 entries, 0 to 38013\n",
      "Data columns (total 19 columns):\n",
      " #   Column                  Non-Null Count  Dtype   \n",
      "---  ------                  --------------  -----   \n",
      " 0   DateTime                38014 non-null  object  \n",
      " 1   Holiday                 38014 non-null  object  \n",
      " 2   HolidayFlag             38014 non-null  int64   \n",
      " 3   DayOfWeek               38014 non-null  int64   \n",
      " 4   WeekOfYear              38014 non-null  int64   \n",
      " 5   Day                     38014 non-null  int64   \n",
      " 6   Month                   38014 non-null  int64   \n",
      " 7   Year                    38014 non-null  int64   \n",
      " 8   PeriodOfDay             38014 non-null  int64   \n",
      " 9   ForecastWindProduction  38009 non-null  float64 \n",
      " 10  SystemLoadEA            38012 non-null  float64 \n",
      " 11  SMPEA                   38012 non-null  float64 \n",
      " 12  ORKTemperature          37719 non-null  float64 \n",
      " 13  ORKWindspeed            37715 non-null  float64 \n",
      " 14  CO2Intensity            38007 non-null  float64 \n",
      " 15  ActualWindProduction    38009 non-null  float64 \n",
      " 16  SystemLoadEP2           38012 non-null  float64 \n",
      " 17  SMPEP2                  38012 non-null  float64 \n",
      " 18  discrete_price          38012 non-null  category\n",
      "dtypes: category(1), float64(9), int64(7), object(2)\n",
      "memory usage: 5.3+ MB\n"
     ]
    }
   ],
   "source": [
    "#Step 3\n",
    "#Pre-process of the data\n",
    "#Geting the information about dataset by calling .info function\n",
    "electricitydata.info()"
   ]
  },
  {
   "cell_type": "code",
   "execution_count": 10,
   "id": "dc739aff",
   "metadata": {},
   "outputs": [
    {
     "data": {
      "text/html": [
       "<div>\n",
       "<style scoped>\n",
       "    .dataframe tbody tr th:only-of-type {\n",
       "        vertical-align: middle;\n",
       "    }\n",
       "\n",
       "    .dataframe tbody tr th {\n",
       "        vertical-align: top;\n",
       "    }\n",
       "\n",
       "    .dataframe thead th {\n",
       "        text-align: right;\n",
       "    }\n",
       "</style>\n",
       "<table border=\"1\" class=\"dataframe\">\n",
       "  <thead>\n",
       "    <tr style=\"text-align: right;\">\n",
       "      <th></th>\n",
       "      <th>HolidayFlag</th>\n",
       "      <th>DayOfWeek</th>\n",
       "      <th>WeekOfYear</th>\n",
       "      <th>Day</th>\n",
       "      <th>Month</th>\n",
       "      <th>Year</th>\n",
       "      <th>PeriodOfDay</th>\n",
       "    </tr>\n",
       "  </thead>\n",
       "  <tbody>\n",
       "    <tr>\n",
       "      <th>count</th>\n",
       "      <td>38014.000000</td>\n",
       "      <td>38014.000000</td>\n",
       "      <td>38014.000000</td>\n",
       "      <td>38014.000000</td>\n",
       "      <td>38014.000000</td>\n",
       "      <td>38014.000000</td>\n",
       "      <td>38014.000000</td>\n",
       "    </tr>\n",
       "    <tr>\n",
       "      <th>mean</th>\n",
       "      <td>0.040406</td>\n",
       "      <td>2.997317</td>\n",
       "      <td>28.124586</td>\n",
       "      <td>15.739412</td>\n",
       "      <td>6.904246</td>\n",
       "      <td>2012.383859</td>\n",
       "      <td>23.501105</td>\n",
       "    </tr>\n",
       "    <tr>\n",
       "      <th>std</th>\n",
       "      <td>0.196912</td>\n",
       "      <td>1.999959</td>\n",
       "      <td>15.587575</td>\n",
       "      <td>8.804247</td>\n",
       "      <td>3.573696</td>\n",
       "      <td>0.624956</td>\n",
       "      <td>13.853108</td>\n",
       "    </tr>\n",
       "    <tr>\n",
       "      <th>min</th>\n",
       "      <td>0.000000</td>\n",
       "      <td>0.000000</td>\n",
       "      <td>1.000000</td>\n",
       "      <td>1.000000</td>\n",
       "      <td>1.000000</td>\n",
       "      <td>2011.000000</td>\n",
       "      <td>0.000000</td>\n",
       "    </tr>\n",
       "    <tr>\n",
       "      <th>25%</th>\n",
       "      <td>0.000000</td>\n",
       "      <td>1.000000</td>\n",
       "      <td>15.000000</td>\n",
       "      <td>8.000000</td>\n",
       "      <td>4.000000</td>\n",
       "      <td>2012.000000</td>\n",
       "      <td>12.000000</td>\n",
       "    </tr>\n",
       "    <tr>\n",
       "      <th>50%</th>\n",
       "      <td>0.000000</td>\n",
       "      <td>3.000000</td>\n",
       "      <td>29.000000</td>\n",
       "      <td>16.000000</td>\n",
       "      <td>7.000000</td>\n",
       "      <td>2012.000000</td>\n",
       "      <td>24.000000</td>\n",
       "    </tr>\n",
       "    <tr>\n",
       "      <th>75%</th>\n",
       "      <td>0.000000</td>\n",
       "      <td>5.000000</td>\n",
       "      <td>43.000000</td>\n",
       "      <td>23.000000</td>\n",
       "      <td>10.000000</td>\n",
       "      <td>2013.000000</td>\n",
       "      <td>35.750000</td>\n",
       "    </tr>\n",
       "    <tr>\n",
       "      <th>max</th>\n",
       "      <td>1.000000</td>\n",
       "      <td>6.000000</td>\n",
       "      <td>52.000000</td>\n",
       "      <td>31.000000</td>\n",
       "      <td>12.000000</td>\n",
       "      <td>2013.000000</td>\n",
       "      <td>47.000000</td>\n",
       "    </tr>\n",
       "  </tbody>\n",
       "</table>\n",
       "</div>"
      ],
      "text/plain": [
       "        HolidayFlag     DayOfWeek    WeekOfYear           Day         Month  \\\n",
       "count  38014.000000  38014.000000  38014.000000  38014.000000  38014.000000   \n",
       "mean       0.040406      2.997317     28.124586     15.739412      6.904246   \n",
       "std        0.196912      1.999959     15.587575      8.804247      3.573696   \n",
       "min        0.000000      0.000000      1.000000      1.000000      1.000000   \n",
       "25%        0.000000      1.000000     15.000000      8.000000      4.000000   \n",
       "50%        0.000000      3.000000     29.000000     16.000000      7.000000   \n",
       "75%        0.000000      5.000000     43.000000     23.000000     10.000000   \n",
       "max        1.000000      6.000000     52.000000     31.000000     12.000000   \n",
       "\n",
       "               Year   PeriodOfDay  \n",
       "count  38014.000000  38014.000000  \n",
       "mean    2012.383859     23.501105  \n",
       "std        0.624956     13.853108  \n",
       "min     2011.000000      0.000000  \n",
       "25%     2012.000000     12.000000  \n",
       "50%     2012.000000     24.000000  \n",
       "75%     2013.000000     35.750000  \n",
       "max     2013.000000     47.000000  "
      ]
     },
     "execution_count": 10,
     "metadata": {},
     "output_type": "execute_result"
    }
   ],
   "source": [
    "electricitydata.describe()\n"
   ]
  },
  {
   "cell_type": "code",
   "execution_count": 34,
   "id": "e7080d77",
   "metadata": {},
   "outputs": [],
   "source": [
    "#Converting the data type to integer\n",
    "electricitydata['ForecastWindProduction'] = pd.to_numeric(electricitydata['ForecastWindProduction'], errors='coerce')\n",
    "electricitydata['SystemLoadEA'] = pd.to_numeric(electricitydata['SystemLoadEA'], errors='coerce')\n",
    "electricitydata['SMPEA'] = pd.to_numeric(electricitydata['SMPEA'], errors='coerce')\n",
    "electricitydata['ORKTemperature'] = pd.to_numeric(electricitydata['ORKTemperature'], errors='coerce')\n",
    "electricitydata['ORKWindspeed'] = pd.to_numeric(electricitydata['ORKWindspeed'], errors='coerce')\n",
    "electricitydata['CO2Intensity'] = pd.to_numeric(electricitydata['CO2Intensity'], errors='coerce')\n",
    "electricitydata['ActualWindProduction'] = pd.to_numeric(electricitydata['ActualWindProduction'], errors='coerce')\n",
    "electricitydata['SystemLoadEP2'] = pd.to_numeric(electricitydata['SystemLoadEP2'], errors='coerce')\n",
    "electricitydata['SMPEP2'] = pd.to_numeric(electricitydata['SMPEP2'], errors='coerce')"
   ]
  },
  {
   "cell_type": "code",
   "execution_count": 84,
   "id": "7b4189ed",
   "metadata": {},
   "outputs": [
    {
     "data": {
      "text/plain": [
       "DateTime                    0\n",
       "Holiday                     0\n",
       "HolidayFlag                 0\n",
       "DayOfWeek                   0\n",
       "WeekOfYear                  0\n",
       "Day                         0\n",
       "Month                       0\n",
       "Year                        0\n",
       "PeriodOfDay                 0\n",
       "ForecastWindProduction      5\n",
       "SystemLoadEA                2\n",
       "SMPEA                       2\n",
       "ORKTemperature            295\n",
       "ORKWindspeed              299\n",
       "CO2Intensity                7\n",
       "ActualWindProduction        5\n",
       "SystemLoadEP2               2\n",
       "SMPEP2                      2\n",
       "discrete_price              2\n",
       "dtype: int64"
      ]
     },
     "execution_count": 84,
     "metadata": {},
     "output_type": "execute_result"
    }
   ],
   "source": [
    "#Checking the null values in the dataset\n",
    "electricitydata.isnull().sum()"
   ]
  },
  {
   "cell_type": "code",
   "execution_count": 38,
   "id": "cd469f8a",
   "metadata": {},
   "outputs": [],
   "source": [
    "#Droping the null values from the dataset and save it in the new variable\n",
    "electricitydata_clean = electricitydata.dropna()"
   ]
  },
  {
   "cell_type": "code",
   "execution_count": 40,
   "id": "6c5cfba3",
   "metadata": {},
   "outputs": [
    {
     "data": {
      "text/plain": [
       "DateTime                  0\n",
       "Holiday                   0\n",
       "HolidayFlag               0\n",
       "DayOfWeek                 0\n",
       "WeekOfYear                0\n",
       "Day                       0\n",
       "Month                     0\n",
       "Year                      0\n",
       "PeriodOfDay               0\n",
       "ForecastWindProduction    0\n",
       "SystemLoadEA              0\n",
       "SMPEA                     0\n",
       "ORKTemperature            0\n",
       "ORKWindspeed              0\n",
       "CO2Intensity              0\n",
       "ActualWindProduction      0\n",
       "SystemLoadEP2             0\n",
       "SMPEP2                    0\n",
       "discrete_price            0\n",
       "dtype: int64"
      ]
     },
     "execution_count": 40,
     "metadata": {},
     "output_type": "execute_result"
    }
   ],
   "source": [
    "#Checking the null values from the dataset\n",
    "electricitydata_clean.isnull().sum()"
   ]
  },
  {
   "cell_type": "code",
   "execution_count": 41,
   "id": "bd87cf3f",
   "metadata": {},
   "outputs": [
    {
     "name": "stdout",
     "output_type": "stream",
     "text": [
      "count    37682.000000\n",
      "mean        62.747428\n",
      "std         32.300069\n",
      "min          0.000000\n",
      "25%         45.540000\n",
      "50%         55.230000\n",
      "75%         70.320000\n",
      "max        587.580000\n",
      "Name: SMPEA, dtype: float64\n"
     ]
    }
   ],
   "source": [
    "#Step 4\n",
    "#Determining the range of values for the SMPEA variable.\n",
    "smpea_range = electricitydata_clean['SMPEA'].describe()\n",
    "print(smpea_range)"
   ]
  },
  {
   "cell_type": "code",
   "execution_count": 91,
   "id": "4b5239ff",
   "metadata": {},
   "outputs": [
    {
     "name": "stdout",
     "output_type": "stream",
     "text": [
      "(-0.588, 117.516]     36074\n",
      "(117.516, 235.032]     1381\n",
      "(235.032, 352.548]      186\n",
      "(352.548, 470.064]       28\n",
      "(470.064, 587.58]        13\n",
      "Name: SMPEA, dtype: int64\n"
     ]
    }
   ],
   "source": [
    "#Stepp 5\n",
    "# create 5 bins for the SMPEA variable\n",
    "bins = pd.cut(electricitydata_clean['SMPEA'], 5)\n",
    "#bins = pd.cut(electricitydata_clean['SMPEA'], 2)\n",
    "\n",
    "# print the counts for each bin\n",
    "print(bins.value_counts())"
   ]
  },
  {
   "cell_type": "code",
   "execution_count": 93,
   "id": "bcc19a48",
   "metadata": {},
   "outputs": [
    {
     "name": "stdout",
     "output_type": "stream",
     "text": [
      "0          Low\n",
      "1          Low\n",
      "2          Low\n",
      "3          Low\n",
      "4     Very Low\n",
      "5     Very Low\n",
      "6     Very Low\n",
      "7     Very Low\n",
      "8     Very Low\n",
      "9     Very Low\n",
      "10    Very Low\n",
      "11         Low\n",
      "12         Low\n",
      "13         Low\n",
      "14         Low\n",
      "15      Medium\n",
      "16      Medium\n",
      "17        High\n",
      "18        High\n",
      "19        High\n",
      "21        High\n",
      "22        High\n",
      "23        High\n",
      "24        High\n",
      "25      Medium\n",
      "26      Medium\n",
      "27      Medium\n",
      "28      Medium\n",
      "29      Medium\n",
      "30      Medium\n",
      "Name: discrete_price, dtype: category\n",
      "Categories (5, object): ['Very Low' < 'Low' < 'Medium' < 'High' < 'Very High']\n"
     ]
    },
    {
     "name": "stderr",
     "output_type": "stream",
     "text": [
      "C:\\Users\\asd\\AppData\\Local\\Temp\\ipykernel_3352\\33345702.py:5: SettingWithCopyWarning: \n",
      "A value is trying to be set on a copy of a slice from a DataFrame.\n",
      "Try using .loc[row_indexer,col_indexer] = value instead\n",
      "\n",
      "See the caveats in the documentation: https://pandas.pydata.org/pandas-docs/stable/user_guide/indexing.html#returning-a-view-versus-a-copy\n",
      "  electricitydata_clean['discrete_price'] = pd.qcut(electricitydata_clean['SMPEA'], q=5, labels=labels)\n"
     ]
    }
   ],
   "source": [
    "#Step 6\n",
    "# replace the values in each bin with a representative value\n",
    "labels = ['Very Low', 'Low', 'Medium', 'High', 'Very High']\n",
    "#labels = ['Low','High']\n",
    "electricitydata_clean['discrete_price'] = pd.qcut(electricitydata_clean['SMPEA'], q=5, labels=labels)\n",
    "\n",
    "# print the first 30 rows of the new 'discrete_price' column\n",
    "print(electricitydata_clean['discrete_price'].head(30))"
   ]
  },
  {
   "cell_type": "code",
   "execution_count": 94,
   "id": "c664a3a8",
   "metadata": {},
   "outputs": [],
   "source": [
    "#Step 7\n",
    "\n",
    "# creating a list of the features to be used in the model\n",
    "features = ['DayOfWeek', 'WeekOfYear', 'Day', 'Month', 'Year', 'PeriodOfDay', 'ForecastWindProduction', 'SystemLoadEA', 'ORKTemperature', 'ORKWindspeed', 'CO2Intensity']\n",
    "\n",
    "# creating a new dataframe with only the selected features and the discrete_price variable\n",
    "data = electricitydata_clean[features + ['discrete_price']]"
   ]
  },
  {
   "cell_type": "code",
   "execution_count": 95,
   "id": "890f785e",
   "metadata": {},
   "outputs": [],
   "source": [
    "# spliting the data into training and test sets\n",
    "train_data, test_data = train_test_split(data, test_size=0.2, random_state=42)\n",
    "\n",
    "\n",
    "# separating the training data into features and labels\n",
    "train_features = train_data.drop('discrete_price', axis=1)\n",
    "train_labels = train_data['discrete_price']\n"
   ]
  },
  {
   "cell_type": "code",
   "execution_count": 96,
   "id": "429c32cc",
   "metadata": {},
   "outputs": [],
   "source": [
    "# separating the test data into features and labels\n",
    "test_features = test_data.drop('discrete_price', axis=1)\n",
    "test_labels = test_data['discrete_price']"
   ]
  },
  {
   "cell_type": "code",
   "execution_count": 97,
   "id": "d0028c2f",
   "metadata": {},
   "outputs": [
    {
     "data": {
      "text/plain": [
       "RandomForestClassifier(random_state=42)"
      ]
     },
     "execution_count": 97,
     "metadata": {},
     "output_type": "execute_result"
    }
   ],
   "source": [
    "#Step 8\n",
    "# creating a Random Forest model with 100 trees\n",
    "rf = RandomForestClassifier(n_estimators=100, random_state=42)\n",
    "\n",
    "# train the model on the training data\n",
    "rf.fit(train_features, train_labels)"
   ]
  },
  {
   "cell_type": "code",
   "execution_count": 105,
   "id": "08c72741",
   "metadata": {},
   "outputs": [
    {
     "name": "stdout",
     "output_type": "stream",
     "text": [
      "RFC Accuracy: 0.8342841979567467\n",
      "RFC Precision: 0.834419432543548\n",
      "RFC Recall: 0.8342841979567467\n",
      "RFC F1: 0.8337945084331981\n"
     ]
    }
   ],
   "source": [
    "#Step 9\n",
    "# making predictions on the test data\n",
    "predictions = rf.predict(test_features)\n",
    "\n",
    "# calculating accuracy, precision, and recall\n",
    "RFC_accuracy = accuracy_score(test_labels, predictions)\n",
    "RFC_precision = precision_score(test_labels, predictions, average='weighted')\n",
    "RFC_recall = recall_score(test_labels, predictions, average='weighted')\n",
    "RFC_f1 = f1_score(test_labels, predictions, average='weighted')\n",
    "\n",
    "# printing the results of Random Forest Classifier\n",
    "print('RFC Accuracy:', RFC_accuracy)\n",
    "print('RFC Precision:', RFC_precision)\n",
    "print('RFC Recall:', RFC_recall)\n",
    "print('RFC F1:', RFC_f1)"
   ]
  },
  {
   "cell_type": "code",
   "execution_count": 106,
   "id": "6bcd900d",
   "metadata": {},
   "outputs": [
    {
     "name": "stdout",
     "output_type": "stream",
     "text": [
      "SVM Accuracy: 0.4347883773384636\n",
      "SVM Precision: 0.39788881676113275\n",
      "SVM Recall: 0.4347883773384636\n",
      "SVM F1 Score: 0.37944769257438515\n"
     ]
    }
   ],
   "source": [
    "#Step 10\n",
    "# creating an SVM model(using Sport Vector Classifier)\n",
    "svm = SVC(kernel='rbf', C=1, gamma='scale', random_state=42)\n",
    "\n",
    "# training the model on the training data\n",
    "svm.fit(train_features, train_labels)\n",
    "\n",
    "# making predictions on the test data\n",
    "svm_predictions = svm.predict(test_features)\n",
    "\n",
    "# calculating accuracy, precision, and recall for the SVM model\n",
    "svm_accuracy = accuracy_score(test_labels, svm_predictions)\n",
    "svm_precision = precision_score(test_labels, svm_predictions, average='weighted')\n",
    "svm_recall = recall_score(test_labels, svm_predictions, average='weighted')\n",
    "svm_f1 = f1_score(test_labels, svm_predictions, average='weighted')\n",
    "\n",
    "# printing the results for the SVM model\n",
    "print('SVM Accuracy:', svm_accuracy)\n",
    "print('SVM Precision:', svm_precision)\n",
    "print('SVM Recall:', svm_recall)\n",
    "print('SVM F1 Score:', svm_f1)"
   ]
  },
  {
   "cell_type": "code",
   "execution_count": 109,
   "id": "5c48e13a",
   "metadata": {},
   "outputs": [
    {
     "name": "stdout",
     "output_type": "stream",
     "text": [
      "Results of Random Forest model\n",
      "Accuracy: 0.8342841979567467\n",
      "Precision: 0.834419432543548\n",
      "Recall: 0.8342841979567467\n",
      "F1 Score: 0.8337945084331981\n",
      "\n",
      "\n",
      "Results of SVM model\n",
      "Accuracy: 0.4347883773384636\n",
      "Precision: 0.39788881676113275\n",
      "Recall: 0.4347883773384636\n",
      "F1 Score: 0.37944769257438515\n"
     ]
    }
   ],
   "source": [
    "#Step 11\n",
    "# comparing the results of the Random Forest and SVM models\n",
    "print(\"Results of Random Forest model\")\n",
    "print('Accuracy:', accuracy)\n",
    "print('Precision:', precision)\n",
    "print('Recall:', recall)\n",
    "print('F1 Score:', RFC_f1)\n",
    "print('\\n')\n",
    "print(\"Results of SVM model\")\n",
    "print('Accuracy:', svm_accuracy)\n",
    "print('Precision:', svm_precision)\n",
    "print('Recall:', svm_recall)\n",
    "print('F1 Score:', svm_f1)"
   ]
  }
 ],
 "metadata": {
  "kernelspec": {
   "display_name": "Python 3 (ipykernel)",
   "language": "python",
   "name": "python3"
  },
  "language_info": {
   "codemirror_mode": {
    "name": "ipython",
    "version": 3
   },
   "file_extension": ".py",
   "mimetype": "text/x-python",
   "name": "python",
   "nbconvert_exporter": "python",
   "pygments_lexer": "ipython3",
   "version": "3.9.12"
  }
 },
 "nbformat": 4,
 "nbformat_minor": 5
}
